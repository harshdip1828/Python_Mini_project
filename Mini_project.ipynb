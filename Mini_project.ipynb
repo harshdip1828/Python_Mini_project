{
  "nbformat": 4,
  "nbformat_minor": 0,
  "metadata": {
    "colab": {
      "provenance": []
    },
    "kernelspec": {
      "name": "python3",
      "display_name": "Python 3"
    },
    "language_info": {
      "name": "python"
    }
  },
  "cells": [
    {
      "cell_type": "markdown",
      "source": [
        "Bank Account Manager - Create a class called Account which will be an abstract class for three other classes called CheckingAccount, SavingsAccount and BusinessAccount. Manage credits and debits from these accounts through an ATM style program."
      ],
      "metadata": {
        "id": "ckwl52XvM85d"
      }
    },
    {
      "cell_type": "code",
      "source": [
        "class Account:\n",
        "    def __init__(self, account_number, balance=0):\n",
        "        self.account_number = account_number\n",
        "        self.balance = balance\n",
        "\n",
        "    def deposit(self, amount):\n",
        "        pass\n",
        "\n",
        "    def withdraw(self, amount):\n",
        "        pass\n",
        "\n",
        "    def get_balance(self):\n",
        "        return self.balance\n",
        "\n",
        "class CheckingAccount(Account):\n",
        "    def __init__(self, account_number, balance=0, overdraft_limit=100):\n",
        "        super().__init__(account_number, balance)\n",
        "        self.overdraft_limit = overdraft_limit\n",
        "\n",
        "    def deposit(self, amount):\n",
        "        self.balance += amount\n",
        "\n",
        "    def withdraw(self, amount):\n",
        "        if self.balance - amount >= -self.overdraft_limit:\n",
        "            self.balance -= amount\n",
        "        else:\n",
        "            print(\"Withdrawal exceeds overdraft limit.\")\n",
        "\n",
        "class SavingsAccount(Account):\n",
        "    def deposit(self, amount):\n",
        "        self.balance += amount\n",
        "\n",
        "    def withdraw(self, amount):\n",
        "        if self.balance - amount >= 0:\n",
        "            self.balance -= amount\n",
        "        else:\n",
        "            print(\"Insufficient funds for withdrawal.\")\n",
        "\n",
        "class BusinessAccount(Account):\n",
        "    def __init__(self, account_number, balance=0, credit_limit=1000):\n",
        "        super().__init__(account_number, balance)\n",
        "        self.credit_limit = credit_limit\n",
        "\n",
        "    def deposit(self, amount):\n",
        "        self.balance += amount\n",
        "\n",
        "    def withdraw(self, amount):\n",
        "        if self.balance - amount >= -self.credit_limit:\n",
        "            self.balance -= amount\n",
        "        else:\n",
        "            print(\"Withdrawal exceeds credit limit.\")\n",
        "\n",
        "def create_account():\n",
        "    account_type = input(\"Enter account type (Checking/Savings/Business): \").capitalize()\n",
        "    account_number = input(\"Enter account number: \")\n",
        "\n",
        "    if account_type == \"Checking\":\n",
        "        return CheckingAccount(account_number)\n",
        "    elif account_type == \"Savings\":\n",
        "        return SavingsAccount(account_number)\n",
        "    elif account_type == \"Business\":\n",
        "        return BusinessAccount(account_number)\n",
        "    else:\n",
        "        print(\"Invalid account type. Please choose Checking, Savings, or Business.\")\n",
        "        return None\n",
        "\n",
        "def atm_interface(account):\n",
        "    while True:\n",
        "        print(\"\\nATM Menu:\")\n",
        "        print(\"1. Deposit\")\n",
        "        print(\"2. Withdraw\")\n",
        "        print(\"3. Check Balance\")\n",
        "        print(\"4. Exit\")\n",
        "\n",
        "        choice = input(\"Enter your choice (1-4): \")\n",
        "\n",
        "        if choice == '1':\n",
        "            amount = float(input(\"Enter the deposit amount: \"))\n",
        "            account.deposit(amount)\n",
        "            print(\"Deposit successful.\")\n",
        "\n",
        "        elif choice == '2':\n",
        "            amount = float(input(\"Enter the withdrawal amount: \"))\n",
        "            account.withdraw(amount)\n",
        "            print(\"Withdrawal successful.\")\n",
        "\n",
        "        elif choice == '3':\n",
        "            print(f\"Current Balance: ${account.get_balance()}\")\n",
        "\n",
        "        elif choice == '4':\n",
        "            print(\"Exiting ATM. Have a nice day!\")\n",
        "            break\n",
        "\n",
        "        else:\n",
        "            print(\"Invalid choice. Please enter a number between 1 and 4.\")\n",
        "\n",
        "if __name__ == \"__main__\":\n",
        "    # Create an account\n",
        "    account = create_account()\n",
        "\n",
        "    if account:\n",
        "        # Interact with the ATM interface\n",
        "        print(\"\\nWelcome to the Bank Account Manager!\")\n",
        "        atm_interface(account)\n"
      ],
      "metadata": {
        "colab": {
          "base_uri": "https://localhost:8080/"
        },
        "id": "I1y8XeCsMcvY",
        "outputId": "6f9d3429-75d3-4a92-a763-e227aad66647"
      },
      "execution_count": 1,
      "outputs": [
        {
          "output_type": "stream",
          "name": "stdout",
          "text": [
            "Enter account type (Checking/Savings/Business): Checking\n",
            "Enter account number: 123\n",
            "\n",
            "Welcome to the Bank Account Manager!\n",
            "\n",
            "ATM Menu:\n",
            "1. Deposit\n",
            "2. Withdraw\n",
            "3. Check Balance\n",
            "4. Exit\n",
            "Enter your choice (1-4): 2\n",
            "Enter the withdrawal amount: 2000\n",
            "Withdrawal exceeds overdraft limit.\n",
            "Withdrawal successful.\n",
            "\n",
            "ATM Menu:\n",
            "1. Deposit\n",
            "2. Withdraw\n",
            "3. Check Balance\n",
            "4. Exit\n",
            "Enter your choice (1-4): 3\n",
            "Current Balance: $0\n",
            "\n",
            "ATM Menu:\n",
            "1. Deposit\n",
            "2. Withdraw\n",
            "3. Check Balance\n",
            "4. Exit\n",
            "Enter your choice (1-4): 4\n",
            "Exiting ATM. Have a nice day!\n"
          ]
        }
      ]
    },
    {
      "cell_type": "markdown",
      "source": [],
      "metadata": {
        "id": "XP1XEGFlM80F"
      }
    }
  ]
}